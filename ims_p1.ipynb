{
 "cells": [
  {
   "cell_type": "markdown",
   "id": "48b283d5",
   "metadata": {},
   "source": [
    "# Admin \n"
   ]
  },
  {
   "cell_type": "markdown",
   "id": "96a79e52",
   "metadata": {},
   "source": [
    "+ADD PRODUCT        \n",
    "+MODIFY QUANTITY     \n",
    "+MODIFTY PRICE       \n",
    "+EDIT NAME  \n",
    "+SHOW RECORDS    \n",
    "+EXIT  "
   ]
  },
  {
   "cell_type": "code",
   "execution_count": 28,
   "id": "b42d351f",
   "metadata": {},
   "outputs": [],
   "source": [
    "fd = open(\"record.json\",'r')\n",
    "j = fd.read()\n",
    "fd.close()"
   ]
  },
  {
   "cell_type": "code",
   "execution_count": 29,
   "id": "76358163",
   "metadata": {},
   "outputs": [],
   "source": [
    "#to convert it into dictionary\n",
    "import json\n",
    "record = json.loads(j)"
   ]
  },
  {
   "cell_type": "code",
   "execution_count": 30,
   "id": "f27861a8",
   "metadata": {},
   "outputs": [
    {
     "name": "stdout",
     "output_type": "stream",
     "text": [
      "******INVENTORY MANAGEMENT******\n",
      " 1.Add new item: \n",
      " 2.Edit name of the product: \n",
      " 3.Edit Price: \n",
      " 4.Edit quantity: \n",
      " 5.Show all records: \n",
      " 6.Exit \n",
      " 1\n",
      "Enter product_id: 1034\n",
      "Name of the product: Table cloth\n",
      "Enter price: 70\n",
      "Enter quantity: 12\n",
      " 1.Add new item: \n",
      " 2.Edit name of the product: \n",
      " 3.Edit Price: \n",
      " 4.Edit quantity: \n",
      " 5.Show all records: \n",
      " 6.Exit \n",
      " 2\n",
      "Enter product_id: 1034\n",
      "Name of the product: Bed cover\n",
      " 1.Add new item: \n",
      " 2.Edit name of the product: \n",
      " 3.Edit Price: \n",
      " 4.Edit quantity: \n",
      " 5.Show all records: \n",
      " 6.Exit \n",
      " 3\n",
      "Enter product_id: 1034\n",
      "Enter price: 120\n",
      " 1.Add new item: \n",
      " 2.Edit name of the product: \n",
      " 3.Edit Price: \n",
      " 4.Edit quantity: \n",
      " 5.Show all records: \n",
      " 6.Exit \n",
      " 5\n",
      "{'1001': {'name': 'choco', 'pr': 4, 'qn': 49}, '1002': {'name': 'Milk Cake', 'pr': 800, 'qn': 89}, '1003': {'name': 'Drink', 'pr': 85, 'qn': 98}, '1004': {'name': 'Candy', 'pr': 5, 'qn': 995}, '1005': {'name': 'Pen', 'pr': 20, 'qn': 100}, '1006': {'name': 'Phone', 'pr': 50000, 'qn': 10}, '1007': {'name': 'Sketch pens', 'pr': 1500, 'qn': 0}, '1008': {'name': 'Case', 'pr': 599, 'qn': 8}, '1009': {'name': 'Keyboard', 'pr': 1999, 'qn': 4}, '1010': {'name': 'Pencil', 'pr': 5, 'qn': 52}, '1011': {'name': 'Notebook', 'pr': 30, 'qn': 10}, '1012': {'name': 'Earphones', 'pr': 100, 'qn': 50}, '1013': {'name': 'Sharpner', 'pr': 3, 'qn': 100}, '1014': {'name': 'Lamp', 'pr': 300, 'qn': 40}, '1015': {'name': 'Ball Pen', 'pr': 20, 'qn': 200}, '1016': {'name': 'Acrylic Color', 'pr': 50, 'qn': 21}, '1017': {'name': 'Color sheets ', 'pr': 199, 'qn': 50}, '1018': {'name': 'Calculator', 'pr': 500, 'qn': 15}, '1019': {'name': 'Report file', 'pr': 400, 'qn': 30}, '1020': {'name': 'Ruler', 'pr': 10, 'qn': 42}, '1021': {'name': 'Gluestick', 'pr': 10, 'qn': 100}, '1022': {'name': 'White board', 'pr': 100, 'qn': 3}, '1023': {'name': 'Bread', 'pr': 30, 'qn': 62}, '1024': {'name': 'Eraser', 'pr': 5, 'qn': 95}, '1025': {'name': 'Black Pen', 'pr': 5, 'qn': 50}, '1026': {'name': 'Brush', 'pr': 10, 'qn': 200}, '1027': {'name': 'Marker', 'pr': 30, 'qn': 20}, '1028': {'name': 'Long scale', 'pr': 20, 'qn': 40}, '1029': {'name': 'Whitener', 'pr': 20, 'qn': 60}, '1030': {'name': 'Chalk ', 'pr': 100, 'qn': 60}, '1031': {'name': 'Glass', 'pr': 40, 'qn': 60}, '1032': {'name': 'Colour pencils', 'pr': 100, 'qn': 50}, '1034': {'name': 'Bed cover', 'pr': 70, 'qn': 12}}\n",
      " 1.Add new item: \n",
      " 2.Edit name of the product: \n",
      " 3.Edit Price: \n",
      " 4.Edit quantity: \n",
      " 5.Show all records: \n",
      " 6.Exit \n",
      " 6\n"
     ]
    }
   ],
   "source": [
    "print('******INVENTORY MANAGEMENT******')\n",
    "while True:\n",
    "    op = int(input(' 1.Add new item: \\n 2.Edit name of the product: \\n 3.Edit Price: \\n 4.Edit quantity: \\n 5.Show all records: \\n 6.Exit \\n '))\n",
    "    if op==1:\n",
    "            prod_id = str(input(\"Enter product_id: \"))\n",
    "            if record.get(prod_id,-1) == -1:\n",
    "                    name = str(input(\"Name of the product: \"))\n",
    "                    pr = int(input(\"Enter price: \"))\n",
    "                    qn = int(input(\"Enter quantity: \"))\n",
    "                    record[prod_id] = {'name': name , 'pr':pr , 'qn': qn }\n",
    "            else:\n",
    "                    print(\"prodcutID is already available!!\") \n",
    "    elif  op==2:\n",
    "        prod_id = str(input(\"Enter product_id: \"))\n",
    "        name = str(input(\"Name of the product: \"))\n",
    "        record[prod_id] = {'name': name , 'pr':pr , 'qn': qn }\n",
    "    \n",
    "    elif op ==3:\n",
    "        prod_id = str(input(\"Enter product_id: \"))\n",
    "        pr = int(input(\"Enter price: \"))\n",
    "        record[prod_id] = {'name': name , 'pr':pr , 'qn': qn }\n",
    "    \n",
    "    elif op==4:\n",
    "        prod_id = str(input(\"Enter product_id: \"))\n",
    "        if record.get(prod_id,-1) != -1:\n",
    "            qn = int(input(\"Enter quantity: \"))\n",
    "            record[prod_id] = {'name': name , 'pr':pr ,'qn': rec[prod_id]['qn']+qn}\n",
    "        else:\n",
    "            print(\"Invalid Product ID!!\")\n",
    "    \n",
    "    elif op==5:\n",
    "        print(record)\n",
    "    \n",
    "    \n",
    "    elif op==6:\n",
    "        break\n",
    "    \n",
    "    else:\n",
    "        print(\"Invalid choice!!\")\n",
    "    \n",
    "#to save it in same inventory (converting again it to string)\n",
    "js = json.dumps(record)\n",
    "\n",
    "fd = open(\"record.json\",'w')\n",
    "fd.write(js)\n",
    "fd.close()"
   ]
  },
  {
   "cell_type": "code",
   "execution_count": 32,
   "id": "f89ada6f",
   "metadata": {},
   "outputs": [
    {
     "data": {
      "text/plain": [
       "{'1001': {'name': 'choco', 'pr': 4, 'qn': 49},\n",
       " '1002': {'name': 'Milk Cake', 'pr': 800, 'qn': 89},\n",
       " '1003': {'name': 'Drink', 'pr': 85, 'qn': 98},\n",
       " '1004': {'name': 'Candy', 'pr': 5, 'qn': 995},\n",
       " '1005': {'name': 'Pen', 'pr': 20, 'qn': 100},\n",
       " '1006': {'name': 'Phone', 'pr': 50000, 'qn': 10},\n",
       " '1007': {'name': 'Sketch pens', 'pr': 1500, 'qn': 0},\n",
       " '1008': {'name': 'Case', 'pr': 599, 'qn': 8},\n",
       " '1009': {'name': 'Keyboard', 'pr': 1999, 'qn': 4},\n",
       " '1010': {'name': 'Pencil', 'pr': 5, 'qn': 52},\n",
       " '1011': {'name': 'Notebook', 'pr': 30, 'qn': 10},\n",
       " '1012': {'name': 'Earphones', 'pr': 100, 'qn': 50},\n",
       " '1013': {'name': 'Sharpner', 'pr': 3, 'qn': 100},\n",
       " '1014': {'name': 'Lamp', 'pr': 300, 'qn': 40},\n",
       " '1015': {'name': 'Ball Pen', 'pr': 20, 'qn': 200},\n",
       " '1016': {'name': 'Acrylic Color', 'pr': 50, 'qn': 21},\n",
       " '1017': {'name': 'Color sheets ', 'pr': 199, 'qn': 50},\n",
       " '1018': {'name': 'Calculator', 'pr': 500, 'qn': 15},\n",
       " '1019': {'name': 'Report file', 'pr': 400, 'qn': 30},\n",
       " '1020': {'name': 'Ruler', 'pr': 10, 'qn': 42},\n",
       " '1021': {'name': 'Gluestick', 'pr': 10, 'qn': 100},\n",
       " '1022': {'name': 'White board', 'pr': 100, 'qn': 3},\n",
       " '1023': {'name': 'Bread', 'pr': 30, 'qn': 62},\n",
       " '1024': {'name': 'Eraser', 'pr': 5, 'qn': 95},\n",
       " '1025': {'name': 'Black Pen', 'pr': 5, 'qn': 50},\n",
       " '1026': {'name': 'Brush', 'pr': 10, 'qn': 200},\n",
       " '1027': {'name': 'Marker', 'pr': 30, 'qn': 20},\n",
       " '1028': {'name': 'Long scale', 'pr': 20, 'qn': 40},\n",
       " '1029': {'name': 'Whitener', 'pr': 20, 'qn': 60},\n",
       " '1030': {'name': 'Chalk ', 'pr': 100, 'qn': 60},\n",
       " '1031': {'name': 'Glass', 'pr': 40, 'qn': 60},\n",
       " '1032': {'name': 'Colour pencils', 'pr': 100, 'qn': 50},\n",
       " '1034': {'name': 'Bed cover', 'pr': 70, 'qn': 12}}"
      ]
     },
     "execution_count": 32,
     "metadata": {},
     "output_type": "execute_result"
    }
   ],
   "source": [
    "record"
   ]
  },
  {
   "cell_type": "markdown",
   "id": "0c02b71f",
   "metadata": {},
   "source": [
    "## User side\n"
   ]
  },
  {
   "cell_type": "code",
   "execution_count": 13,
   "id": "468c37f9",
   "metadata": {},
   "outputs": [],
   "source": [
    "import json\n",
    "record = json.loads(j)"
   ]
  },
  {
   "cell_type": "code",
   "execution_count": 14,
   "id": "9136ef80",
   "metadata": {},
   "outputs": [],
   "source": [
    "import time"
   ]
  },
  {
   "cell_type": "code",
   "execution_count": 16,
   "id": "f6e4198a",
   "metadata": {},
   "outputs": [
    {
     "name": "stdout",
     "output_type": "stream",
     "text": [
      "********CHECKOUT********\n",
      "Enter the product Id: 1002\n",
      "Enter the quantity: 1\n",
      "Product :  Milk Cake\n",
      "Price :  800\n",
      "**********************\n",
      "Billing Amount: 800\n",
      "======================\n",
      "Mon Sep  6 16:14:41 2021\n",
      "**********************\n",
      "**********************\n",
      " Thanks for Shopping  \n",
      "**********************\n"
     ]
    }
   ],
   "source": [
    "## bill generation\n",
    "\n",
    "print('********CHECKOUT********')\n",
    "    \n",
    "ui_prod = str(input(\"Enter the product Id: \"))\n",
    "\n",
    "if record.get(ui_prod,-1) != -1:\n",
    "    ui_quant = int(input(\"Enter the quantity: \"))\n",
    "    if record[ui_prod]['qn']== 0:\n",
    "        print(\"Out of stock!!\")\n",
    "    else:\n",
    "        print(\"Product : \",record[ui_prod]['name'])\n",
    "        print(\"Price : \",record[ui_prod]['pr'])\n",
    "        print('**********************')\n",
    "        print('Billing Amount:' , record[ui_prod]['pr'] * ui_quant)\n",
    "        amt = record[ui_prod]['pr'] * ui_quant\n",
    "        print('======================')\n",
    "        record[ui_prod]['qn'] = record[ui_prod]['qn'] - ui_quant\n",
    "else:\n",
    "    print(\"Invalid Product ID!!\")\n",
    "print(time.ctime())\n",
    "print('**********************')\n",
    "print('**********************')\n",
    "print(' Thanks for Shopping  ')\n",
    "print('**********************')\n"
   ]
  },
  {
   "cell_type": "code",
   "execution_count": 17,
   "id": "1bcd6642",
   "metadata": {},
   "outputs": [],
   "source": [
    "#update inventory after purchasing\n",
    "\n",
    "inven = json.dumps(record)\n",
    "\n",
    "fd = open('record.json','w')\n",
    "\n",
    "fd.write(inven)\n",
    "fd.close()"
   ]
  },
  {
   "cell_type": "markdown",
   "id": "640e3880",
   "metadata": {},
   "source": [
    "## Sales"
   ]
  },
  {
   "cell_type": "code",
   "execution_count": 18,
   "id": "c528a6d1",
   "metadata": {},
   "outputs": [],
   "source": [
    "sale = json.loads(j)"
   ]
  },
  {
   "cell_type": "code",
   "execution_count": 19,
   "id": "00263de7",
   "metadata": {},
   "outputs": [],
   "source": [
    "sale = {'prod' : ui_prod , 'qn' : ui_quant , 'amount': amt}\n",
    "if ui_prod not in sale.keys():\n",
    "    sale[ui_prod] = {'Product Name' : rec [ui_prod]['name'],'Amount' :amt}\n",
    "else:\n",
    "    sale[ui_prod]['Amount']+= amt\n",
    "        \n",
    "js = json.dumps(sale)\n",
    "    \n",
    "s =open(\"sales.json\",'w')\n",
    "s.write(js)\n",
    "s.close()"
   ]
  }
 ],
 "metadata": {
  "kernelspec": {
   "display_name": "Python 3",
   "language": "python",
   "name": "python3"
  },
  "language_info": {
   "codemirror_mode": {
    "name": "ipython",
    "version": 3
   },
   "file_extension": ".py",
   "mimetype": "text/x-python",
   "name": "python",
   "nbconvert_exporter": "python",
   "pygments_lexer": "ipython3",
   "version": "3.8.8"
  }
 },
 "nbformat": 4,
 "nbformat_minor": 5
}
